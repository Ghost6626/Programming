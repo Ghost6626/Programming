{
 "cells": [
  {
   "cell_type": "markdown",
   "id": "7f494e13-fb04-4b35-b28c-d4bd0e0bf32b",
   "metadata": {
    "jp-MarkdownHeadingCollapsed": true
   },
   "source": [
    "# BASICS"
   ]
  },
  {
   "cell_type": "code",
   "execution_count": 6,
   "id": "a7e80865-d964-47fc-8884-2665e36f1299",
   "metadata": {},
   "outputs": [
    {
     "name": "stdout",
     "output_type": "stream",
     "text": [
      "5\n"
     ]
    }
   ],
   "source": [
    "a=5\n",
    "print(a)"
   ]
  },
  {
   "cell_type": "code",
   "execution_count": 7,
   "id": "0dfab48f-2fd0-4e03-9e7e-4495fa3735fd",
   "metadata": {},
   "outputs": [
    {
     "ename": "NameError",
     "evalue": "name 'typeof' is not defined",
     "output_type": "error",
     "traceback": [
      "\u001b[1;31m--------------------------------------------------\u001b[0m",
      "\u001b[1;31mNameError\u001b[0m        Traceback (most recent call last)",
      "Cell \u001b[1;32mIn[7], line 3\u001b[0m\n\u001b[0;32m      1\u001b[0m \u001b[38;5;66;03m#hello this is saurav first time coding in python\u001b[39;00m\n\u001b[0;32m      2\u001b[0m a\u001b[38;5;241m=\u001b[39m\u001b[38;5;241m10\u001b[39m\n\u001b[1;32m----> 3\u001b[0m \u001b[38;5;28mprint\u001b[39m(\u001b[43mtypeof\u001b[49m(a))\n",
      "\u001b[1;31mNameError\u001b[0m: name 'typeof' is not defined"
     ]
    }
   ],
   "source": [
    "#hello this is saurav first time coding in python\n",
    "a=10\n",
    "print(typeof(a))"
   ]
  },
  {
   "cell_type": "code",
   "execution_count": 8,
   "id": "82481643-fd6e-48d7-8870-f6e481940bf8",
   "metadata": {},
   "outputs": [
    {
     "name": "stdout",
     "output_type": "stream",
     "text": [
      "<class 'int'>\n"
     ]
    }
   ],
   "source": [
    "a=10\n",
    "print(type(a))\n",
    "\n"
   ]
  },
  {
   "cell_type": "code",
   "execution_count": 9,
   "id": "dfd2b94b-721b-45f6-9caa-8ddd0b46889e",
   "metadata": {},
   "outputs": [
    {
     "name": "stdout",
     "output_type": "stream",
     "text": [
      "<class 'complex'>\n"
     ]
    }
   ],
   "source": [
    "a=1+6j\n",
    "print(type(a))"
   ]
  },
  {
   "cell_type": "code",
   "execution_count": 10,
   "id": "b05eecbe-b914-4ea0-af6f-5aa360d8d7e7",
   "metadata": {},
   "outputs": [
    {
     "ename": "NameError",
     "evalue": "name 'false' is not defined",
     "output_type": "error",
     "traceback": [
      "\u001b[1;31m--------------------------------------------------\u001b[0m",
      "\u001b[1;31mNameError\u001b[0m        Traceback (most recent call last)",
      "Cell \u001b[1;32mIn[10], line 1\u001b[0m\n\u001b[1;32m----> 1\u001b[0m a\u001b[38;5;241m=\u001b[39m\u001b[43mfalse\u001b[49m\n\u001b[0;32m      2\u001b[0m \u001b[38;5;28mprint\u001b[39m(typeof(a))\n",
      "\u001b[1;31mNameError\u001b[0m: name 'false' is not defined"
     ]
    }
   ],
   "source": [
    "a=false\n",
    "print(typeof(a))"
   ]
  },
  {
   "cell_type": "code",
   "execution_count": 11,
   "id": "6bf619da-9632-4472-8056-32a83e0af46d",
   "metadata": {},
   "outputs": [
    {
     "ename": "SyntaxError",
     "evalue": "unterminated string literal (detected at line 1) (1296511975.py, line 1)",
     "output_type": "error",
     "traceback": [
      "\u001b[1;36m  Cell \u001b[1;32mIn[11], line 1\u001b[1;36m\u001b[0m\n\u001b[1;33m    a=\"Hello this is my first ml lab'\u001b[0m\n\u001b[1;37m      ^\u001b[0m\n\u001b[1;31mSyntaxError\u001b[0m\u001b[1;31m:\u001b[0m unterminated string literal (detected at line 1)\n"
     ]
    }
   ],
   "source": [
    "a=\"Hello this is my first ml lab'\n",
    "\n",
    "print(a)"
   ]
  },
  {
   "cell_type": "code",
   "execution_count": 12,
   "id": "f5daae31-cbfe-4d2e-8e92-879707d519b3",
   "metadata": {},
   "outputs": [
    {
     "name": "stdout",
     "output_type": "stream",
     "text": [
      "hello this is me in my first ml lab\n"
     ]
    }
   ],
   "source": [
    "a='hello this is me in my first ml lab'\n",
    "print(a)\n"
   ]
  },
  {
   "cell_type": "code",
   "execution_count": null,
   "id": "5b858b1c-e4a6-4956-8cb0-432db4cc77ac",
   "metadata": {},
   "outputs": [],
   "source": [
    "#press esc+a to add a cell above the currect cell"
   ]
  },
  {
   "cell_type": "code",
   "execution_count": 13,
   "id": "41c7fcc0-9290-4fe2-aabe-dc07a4bf8527",
   "metadata": {},
   "outputs": [
    {
     "name": "stdout",
     "output_type": "stream",
     "text": [
      "this is a multi line string\n",
      "ok this is different form of strings \n"
     ]
    }
   ],
   "source": [
    "a='''this is a multi line string\n",
    "ok this is different form of strings '''\n",
    "print(a)"
   ]
  },
  {
   "cell_type": "code",
   "execution_count": 14,
   "id": "0e988284-b49a-46f9-b091-d9406b5a0e6c",
   "metadata": {},
   "outputs": [],
   "source": [
    "#press esc+b to add a cell below the current cell\n",
    "\n"
   ]
  },
  {
   "cell_type": "markdown",
   "id": "a60ddf72-3c46-4deb-9044-7a9a1cf6dca8",
   "metadata": {},
   "source": [
    "This is the array in the python"
   ]
  },
  {
   "cell_type": "code",
   "execution_count": 15,
   "id": "274ac9c8-5360-4585-9539-5ea9490d4055",
   "metadata": {},
   "outputs": [
    {
     "name": "stdout",
     "output_type": "stream",
     "text": [
      "[100, 20, 20, 50]\n"
     ]
    }
   ],
   "source": [
    "a=[100,20,20,50]\n",
    "print(a)"
   ]
  },
  {
   "cell_type": "markdown",
   "id": "a91f54fc-c887-4d6a-87bc-41f58bc158bf",
   "metadata": {
    "jp-MarkdownHeadingCollapsed": true
   },
   "source": [
    "# List , tupple and dictionary in python"
   ]
  },
  {
   "cell_type": "code",
   "execution_count": 16,
   "id": "3ee5f82e-28e2-44f9-8b12-bc7f310b2a75",
   "metadata": {},
   "outputs": [
    {
     "name": "stdout",
     "output_type": "stream",
     "text": [
      "['apple', 'banana', 'mango']\n",
      "<class 'list'>\n",
      "apple\n"
     ]
    }
   ],
   "source": [
    "fruits=[\"apple\",\"banana\",\"mango\"]\n",
    "print(fruits)\n",
    "print(type(fruits))\n",
    "print(fruits[0])"
   ]
  },
  {
   "cell_type": "code",
   "execution_count": 17,
   "id": "4ec2270d-4f54-4708-ab64-1730e8a8d258",
   "metadata": {},
   "outputs": [
    {
     "name": "stdout",
     "output_type": "stream",
     "text": [
      "(10, 50, 60)\n",
      "<class 'tuple'>\n"
     ]
    }
   ],
   "source": [
    "t=(10,50,60)\n",
    "print(t)\n",
    "print(type(t))"
   ]
  },
  {
   "cell_type": "code",
   "execution_count": 22,
   "id": "ae36bbe1-a85d-470f-a04d-7e82821a2253",
   "metadata": {},
   "outputs": [
    {
     "name": "stdout",
     "output_type": "stream",
     "text": [
      "{40, 10, 20, 30}\n",
      "<class 'set'>\n"
     ]
    }
   ],
   "source": [
    "t={10,20,30,40,30,10}\n",
    "print(t)\n",
    "print(type(t))"
   ]
  },
  {
   "cell_type": "code",
   "execution_count": 23,
   "id": "dcd67947-b2f0-466a-a7b5-197c37747f79",
   "metadata": {},
   "outputs": [
    {
     "name": "stdout",
     "output_type": "stream",
     "text": [
      "{'mango': 150, 'apple': 250, 'orange': 'not available'}\n",
      "<class 'dict'>\n"
     ]
    }
   ],
   "source": [
    "d={\"mango\":150,\"apple\":250,\"orange\":\"not available\"}\n",
    "print(d)\n",
    "print(type(d))"
   ]
  },
  {
   "cell_type": "markdown",
   "id": "c27f3951-a1c8-4974-8ec2-165249d2e722",
   "metadata": {
    "jp-MarkdownHeadingCollapsed": true
   },
   "source": [
    "# operators"
   ]
  },
  {
   "cell_type": "code",
   "execution_count": 24,
   "id": "9c07d494-9d16-45d8-a7d5-83fc4881047f",
   "metadata": {},
   "outputs": [
    {
     "name": "stdout",
     "output_type": "stream",
     "text": [
      "-1\n",
      "-110\n",
      "21\n",
      "-0.9090909090909091\n",
      "-1\n",
      "1e-11\n"
     ]
    }
   ],
   "source": [
    "a=10\n",
    "b=-11\n",
    "print(a+b)\n",
    "print(a*b)\n",
    "print(a-b)\n",
    "print(a/b)#this gives the decimal value \n",
    "print(a//b)#this gives the floor value \n",
    "print(a**b)"
   ]
  },
  {
   "cell_type": "markdown",
   "id": "a08f33e5-3493-4e35-8a7c-9fa8b12c913b",
   "metadata": {
    "jp-MarkdownHeadingCollapsed": true
   },
   "source": [
    "# Conditional stataments"
   ]
  },
  {
   "cell_type": "code",
   "execution_count": 26,
   "id": "75d1c655-2e03-4d2a-9331-783c2312c413",
   "metadata": {},
   "outputs": [
    {
     "name": "stdout",
     "output_type": "stream",
     "text": [
      "positive\n"
     ]
    }
   ],
   "source": [
    "a=10\n",
    "if(a>0):\n",
    "    print(\"positive\")\n",
    "else:\n",
    "    print(\"negative\")"
   ]
  },
  {
   "cell_type": "markdown",
   "id": "a6c82285-3044-4d98-872f-202d846ee923",
   "metadata": {
    "jp-MarkdownHeadingCollapsed": true
   },
   "source": [
    "# Loops"
   ]
  },
  {
   "cell_type": "code",
   "execution_count": 3,
   "id": "e3f28796-7945-4161-a539-9e8cd19b465b",
   "metadata": {},
   "outputs": [
    {
     "name": "stdout",
     "output_type": "stream",
     "text": [
      "1\n",
      "2\n",
      "3\n",
      "4\n",
      "5\n",
      "6\n",
      "7\n",
      "8\n",
      "9\n",
      "10\n"
     ]
    }
   ],
   "source": [
    "i=1\n",
    "while(i<=10):\n",
    "    print(i)\n",
    "    i+=1"
   ]
  },
  {
   "cell_type": "code",
   "execution_count": 5,
   "id": "d49dcd40-e90d-411a-8d8c-f46cb275ec20",
   "metadata": {},
   "outputs": [
    {
     "name": "stdout",
     "output_type": "stream",
     "text": [
      "range(0, 10)\n",
      "<class 'range'>\n"
     ]
    }
   ],
   "source": [
    "a=range(10)\n",
    "print(a)\n",
    "print(type(a))"
   ]
  },
  {
   "cell_type": "code",
   "execution_count": 8,
   "id": "ec017a0c-456b-4e88-af54-9d191199414e",
   "metadata": {},
   "outputs": [
    {
     "name": "stdout",
     "output_type": "stream",
     "text": [
      "[1, 3, 5, 7, 9, 11, 13, 15, 17, 19, 21, 23, 25, 27, 29, 31, 33, 35, 37, 39, 41, 43, 45, 47, 49, 51, 53, 55, 57, 59, 61, 63, 65, 67, 69, 71, 73, 75, 77, 79, 81, 83, 85, 87, 89, 91, 93, 95, 97, 99]\n",
      "<class 'list'>\n"
     ]
    }
   ],
   "source": [
    "a=list(range(1,100,2))#first argument is the initialising value and second is limit and third is incrementor\n",
    "print(a)\n",
    "print(type(a))"
   ]
  },
  {
   "cell_type": "code",
   "execution_count": 11,
   "id": "1d8ce805-bc67-40d6-9189-3a6098366adc",
   "metadata": {},
   "outputs": [
    {
     "name": "stdout",
     "output_type": "stream",
     "text": [
      "0\n",
      "1\n",
      "2\n",
      "3\n",
      "4\n",
      "5\n",
      "6\n",
      "7\n",
      "8\n",
      "9\n"
     ]
    }
   ],
   "source": [
    "for i in range(10):\n",
    "    print(i)"
   ]
  },
  {
   "cell_type": "code",
   "execution_count": 12,
   "id": "c7804d61-c151-4b07-8649-dd53eeef2fcb",
   "metadata": {},
   "outputs": [
    {
     "name": "stdout",
     "output_type": "stream",
     "text": [
      "apple\n",
      "banana\n",
      "mango\n"
     ]
    }
   ],
   "source": [
    "fruits=[\"apple\",\"banana\",\"mango\"]\n",
    "for fruit in fruits:\n",
    "    print(fruit)"
   ]
  },
  {
   "cell_type": "markdown",
   "id": "192f36a5-cad0-4c67-90ba-653c34079f1e",
   "metadata": {},
   "source": [
    "# NUMPY"
   ]
  },
  {
   "cell_type": "code",
   "execution_count": 13,
   "id": "4aaeaed3-2f31-44c1-95a2-fe5d8a01726c",
   "metadata": {},
   "outputs": [],
   "source": [
    "import numpy as np"
   ]
  },
  {
   "cell_type": "code",
   "execution_count": 15,
   "id": "a0579f72-4323-4439-a912-7a914d7d770d",
   "metadata": {},
   "outputs": [
    {
     "name": "stdout",
     "output_type": "stream",
     "text": [
      "[1 2 3 4 5 6]\n",
      "<class 'numpy.ndarray'>\n",
      "(6,)\n"
     ]
    }
   ],
   "source": [
    "arr=np.array([1,2,3,4,5,6])\n",
    "print(arr)\n",
    "print(type(arr))\n",
    "print(arr.shape)"
   ]
  },
  {
   "cell_type": "code",
   "execution_count": 18,
   "id": "9fbf5d3f-2560-494c-a441-5c8e8f451fee",
   "metadata": {},
   "outputs": [
    {
     "ename": "ValueError",
     "evalue": "setting an array element with a sequence. The requested array has an inhomogeneous shape after 1 dimensions. The detected shape was (3,) + inhomogeneous part.",
     "output_type": "error",
     "traceback": [
      "\u001b[1;31m--------------------------------------------------\u001b[0m",
      "\u001b[1;31mValueError\u001b[0m       Traceback (most recent call last)",
      "Cell \u001b[1;32mIn[18], line 1\u001b[0m\n\u001b[1;32m----> 1\u001b[0m arr\u001b[38;5;241m=\u001b[39m\u001b[43mnp\u001b[49m\u001b[38;5;241;43m.\u001b[39;49m\u001b[43marray\u001b[49m\u001b[43m(\u001b[49m\u001b[43m[\u001b[49m\u001b[43m[\u001b[49m\u001b[38;5;241;43m10\u001b[39;49m\u001b[43m,\u001b[49m\u001b[38;5;241;43m20\u001b[39;49m\u001b[43m]\u001b[49m\u001b[43m,\u001b[49m\u001b[43m[\u001b[49m\u001b[38;5;241;43m10\u001b[39;49m\u001b[43m]\u001b[49m\u001b[43m,\u001b[49m\u001b[43m[\u001b[49m\u001b[38;5;241;43m10\u001b[39;49m\u001b[43m,\u001b[49m\u001b[38;5;241;43m20\u001b[39;49m\u001b[43m,\u001b[49m\u001b[38;5;241;43m30\u001b[39;49m\u001b[43m]\u001b[49m\u001b[43m]\u001b[49m\u001b[43m)\u001b[49m\n\u001b[0;32m      2\u001b[0m \u001b[38;5;28mprint\u001b[39m(arr)\n\u001b[0;32m      3\u001b[0m \u001b[38;5;28mprint\u001b[39m(arr\u001b[38;5;241m.\u001b[39mshape)\n",
      "\u001b[1;31mValueError\u001b[0m: setting an array element with a sequence. The requested array has an inhomogeneous shape after 1 dimensions. The detected shape was (3,) + inhomogeneous part."
     ]
    }
   ],
   "source": [
    "arr=np.array([[10,20],[10],[10,20,30]])#this does not accepts non homogenous size of array means this creates static array not not the dynamic one\n",
    "print(arr)\n",
    "print(arr.shape)"
   ]
  },
  {
   "cell_type": "markdown",
   "id": "f7c4a595-a049-4da4-a127-8cf57ce7b0d4",
   "metadata": {},
   "source": [
    "## numpy array special functions"
   ]
  },
  {
   "cell_type": "code",
   "execution_count": 19,
   "id": "cb99556e-bd6c-4965-9414-18c4a587fb05",
   "metadata": {},
   "outputs": [
    {
     "name": "stdout",
     "output_type": "stream",
     "text": [
      "[[ 10  20 100]\n",
      " [ 10  40  30]\n",
      " [ 10  20  30]]\n",
      "(3, 3)\n"
     ]
    }
   ],
   "source": [
    "arr=np.array([[10,20,100],[10,40,30],[10,20,30]])\n",
    "print(arr)\n",
    "print(arr.shape)"
   ]
  },
  {
   "cell_type": "code",
   "execution_count": 21,
   "id": "3999fd22-2d13-40b6-a78c-6525c84fadd6",
   "metadata": {},
   "outputs": [
    {
     "name": "stdout",
     "output_type": "stream",
     "text": [
      "[[1. 0. 0. 0.]\n",
      " [0. 1. 0. 0.]\n",
      " [0. 0. 1. 0.]\n",
      " [0. 0. 0. 1.]]\n"
     ]
    }
   ],
   "source": [
    "arr=np.eye(4)\n",
    "print(arr)"
   ]
  },
  {
   "cell_type": "code",
   "execution_count": 26,
   "id": "3f822f7a-4981-4371-8165-e246c0ddb704",
   "metadata": {},
   "outputs": [
    {
     "name": "stdout",
     "output_type": "stream",
     "text": [
      "[[0. 0. 0. 0.]\n",
      " [0. 0. 0. 0.]\n",
      " [0. 0. 0. 0.]\n",
      " [0. 0. 0. 0.]]\n"
     ]
    }
   ],
   "source": [
    "arr=np.zeros((4,4))# . is there because python's defualt data type is float value inlike cpp\n",
    "print(arr)"
   ]
  },
  {
   "cell_type": "code",
   "execution_count": 27,
   "id": "608e8e6d-7d0b-4def-913e-85020352a6de",
   "metadata": {},
   "outputs": [
    {
     "name": "stdout",
     "output_type": "stream",
     "text": [
      "[[0 0 0 0]\n",
      " [0 0 0 0]\n",
      " [0 0 0 0]\n",
      " [0 0 0 0]]\n"
     ]
    }
   ],
   "source": [
    "arr=np.zeros((4,4),dtype=np.int64) #do this to get int value\n",
    "print(arr)"
   ]
  },
  {
   "cell_type": "code",
   "execution_count": 28,
   "id": "5918d9c8-aa37-453a-8b58-4093e42fd652",
   "metadata": {},
   "outputs": [
    {
     "name": "stdout",
     "output_type": "stream",
     "text": [
      "[[1 0 0 0]\n",
      " [0 1 0 0]\n",
      " [0 0 1 0]\n",
      " [0 0 0 1]]\n"
     ]
    }
   ],
   "source": [
    "arr=np.eye(4,dtype=np.int64)\n",
    "print(arr)"
   ]
  },
  {
   "cell_type": "code",
   "execution_count": 45,
   "id": "05df3edb-d59d-4b27-8de8-5197f9ff38a7",
   "metadata": {},
   "outputs": [
    {
     "name": "stdout",
     "output_type": "stream",
     "text": [
      "[[0.19950046 0.23000325 0.10215899]\n",
      " [0.36576906 0.41516533 0.56004455]]\n"
     ]
    }
   ],
   "source": [
    "random=np.random.rand(2,3)#how to generate a random array having values between 0 and 1\n",
    "print(random)"
   ]
  },
  {
   "cell_type": "code",
   "execution_count": 39,
   "id": "bcbcd78c-0185-4317-8a52-a383ea82381c",
   "metadata": {},
   "outputs": [
    {
     "name": "stdout",
     "output_type": "stream",
     "text": [
      "[[27541  4248 44313 49363 15630 61745 93282 16075 71335 62644]\n",
      " [22636 57018 24475 64161 25014 29614 58606 30983 44434 52517]\n",
      " [30941 46955 28436 87195 57852 11051 84606 52575 38870 82011]\n",
      " [71071 63370 66171 49192 67254 10238 94525 94130 58273 16933]\n",
      " [95388  3276 29900 65688 92479 55141 80512 35240 82310 40614]]\n"
     ]
    }
   ],
   "source": [
    "random=np.random.randint(1000 ,100000 ,size=(5,10)) #how to generate a random array any between any range\n",
    "print(random)\n"
   ]
  },
  {
   "cell_type": "code",
   "execution_count": 40,
   "id": "019443a2-02c5-4a89-b262-3459e174276e",
   "metadata": {},
   "outputs": [
    {
     "name": "stdout",
     "output_type": "stream",
     "text": [
      "[[27541    10 44313 49363 15630 61745 93282 16075 71335 62644]\n",
      " [22636    10 24475 64161 25014 29614 58606 30983 44434 52517]\n",
      " [30941    10 28436 87195 57852 11051 84606 52575 38870 82011]\n",
      " [71071    10 66171 49192 67254 10238 94525 94130 58273 16933]\n",
      " [95388    10 29900 65688 92479 55141 80512 35240 82310 40614]]\n"
     ]
    }
   ],
   "source": [
    "random[:,1]=10 #this is  used to allocate a single value to any column or row syntaX {NAME[ROW_IDX1,ROW_IDX2... : ,COL_IDX1,COL_IDX2...]=VALUE}\n",
    "print(random)"
   ]
  },
  {
   "cell_type": "code",
   "execution_count": 83,
   "id": "e3ab6f3d-81b2-4001-8274-51b8b20d4d19",
   "metadata": {},
   "outputs": [
    {
     "name": "stdout",
     "output_type": "stream",
     "text": [
      "[[ 8 10 12]\n",
      " [14 16 18]]\n",
      "[[ 8 10 12]\n",
      " [14 16 18]]\n",
      "[[-6 -6 -6]\n",
      " [-6 -6 -6]]\n",
      "[[ 7 16 27]\n",
      " [40 55 72]]\n",
      "[[0.14285714 0.25       0.33333333]\n",
      " [0.4        0.45454545 0.5       ]]\n"
     ]
    }
   ],
   "source": [
    "x=np.array([[1,2,3],[4,5,6]])\n",
    "y=np.array([[7,8,9],[10,11,12]])\n",
    "print(x+y)\n",
    "print(np.add(x,y))\n",
    "print(np.subtract(x,y))\n",
    "print(np.multiply(x,y))\n",
    "print(np.divide(x,y))"
   ]
  },
  {
   "cell_type": "code",
   "execution_count": 56,
   "id": "344383eb-e7ad-4a6d-9ffb-5d212f1a17e0",
   "metadata": {},
   "outputs": [
    {
     "name": "stdout",
     "output_type": "stream",
     "text": [
      "[[1.         1.41421356 1.73205081]\n",
      " [2.         2.23606798 2.44948974]]\n"
     ]
    }
   ],
   "source": [
    "print(np.sqrt(x))"
   ]
  },
  {
   "cell_type": "markdown",
   "id": "1755e131-beb9-40f7-8031-7917723b0d15",
   "metadata": {
    "jp-MarkdownHeadingCollapsed": true
   },
   "source": [
    "### Cross and dot multiplication"
   ]
  },
  {
   "cell_type": "code",
   "execution_count": 81,
   "id": "64d947ce-d391-47b7-9435-09cdd25dbf9f",
   "metadata": {},
   "outputs": [
    {
     "ename": "ValueError",
     "evalue": "shapes (2,3) and (2,3) not aligned: 3 (dim 1) != 2 (dim 0)",
     "output_type": "error",
     "traceback": [
      "\u001b[1;31m---------------------------------------------\u001b[0m",
      "\u001b[1;31mValueError\u001b[0m  Traceback (most recent call last)",
      "Cell \u001b[1;32mIn[81], line 1\u001b[0m\n\u001b[1;32m----> 1\u001b[0m \u001b[38;5;28mprint\u001b[39m(\u001b[43mx\u001b[49m\u001b[38;5;241;43m.\u001b[39;49m\u001b[43mdot\u001b[49m\u001b[43m(\u001b[49m\u001b[43my\u001b[49m\u001b[43m)\u001b[49m)\u001b[38;5;66;03m#size should follow the rules of array multiplication\u001b[39;00m\n",
      "\u001b[1;31mValueError\u001b[0m: shapes (2,3) and (2,3) not aligned: 3 (dim 1) != 2 (dim 0)"
     ]
    }
   ],
   "source": [
    "print(x.dot(y))#size should follow the rules of array multiplication"
   ]
  },
  {
   "cell_type": "code",
   "execution_count": 60,
   "id": "3d605221-b8d4-4839-92c6-ad6f64b71e62",
   "metadata": {},
   "outputs": [
    {
     "name": "stdout",
     "output_type": "stream",
     "text": [
      "[70]\n"
     ]
    }
   ],
   "source": [
    "x=np.array([1,2,3,4])\n",
    "y=np.array([[5],[6],[7],[8]])\n",
    "print(x.dot(y))"
   ]
  },
  {
   "cell_type": "markdown",
   "id": "824b7014-d65b-4997-ab66-75179a99fbea",
   "metadata": {},
   "source": [
    "### operation on all element of array "
   ]
  },
  {
   "cell_type": "code",
   "execution_count": 76,
   "id": "82f25417-b760-4da1-ac1a-1cc610d14c36",
   "metadata": {},
   "outputs": [
    {
     "name": "stdout",
     "output_type": "stream",
     "text": [
      "[5 6 7 8]\n",
      "[2 4 6 8]\n",
      "[-1  0  1  2]\n",
      "[0.5 1.  1.5 2. ]\n"
     ]
    }
   ],
   "source": [
    "print(x+4)#add four to every element\n",
    "print(x*2) # multiply every value by 2\n",
    "print(x-2) #subtract 2 form every value\n",
    "print(x/2) # divides every value by 2"
   ]
  },
  {
   "cell_type": "code",
   "execution_count": 65,
   "id": "c1bfcc59-791c-4887-a0dd-1d4d75096f83",
   "metadata": {},
   "outputs": [
    {
     "name": "stdout",
     "output_type": "stream",
     "text": [
      "[[ 6  7  8  9]\n",
      " [ 7  8  9 10]\n",
      " [ 8  9 10 11]\n",
      " [ 9 10 11 12]]\n"
     ]
    }
   ],
   "source": [
    "print(np.add(y,x)) #addition when size is not same "
   ]
  },
  {
   "cell_type": "code",
   "execution_count": 75,
   "id": "db397598-2181-4e94-b6c8-6479ec61964d",
   "metadata": {},
   "outputs": [
    {
     "name": "stdout",
     "output_type": "stream",
     "text": [
      "10\n",
      "10\n",
      "10\n",
      "[5 6 7 8]\n"
     ]
    }
   ],
   "source": [
    "print(sum(x)) #prints the sum of all elements in the array from already available inbuilt fucntion\n",
    "print(np.sum(x))\n",
    "\n",
    "print(np.sum(x,axis=0)) # sum coloum wise\n",
    "print(np.sum(y,axis=1)) # sum row wise"
   ]
  },
  {
   "cell_type": "markdown",
   "id": "14751027-8837-4924-858f-ee786483e370",
   "metadata": {},
   "source": [
    "### Array stacking and resizing/reshaping"
   ]
  },
  {
   "cell_type": "code",
   "execution_count": 87,
   "id": "6bebf22c-7dd9-495f-93b9-186594393be3",
   "metadata": {},
   "outputs": [
    {
     "name": "stdout",
     "output_type": "stream",
     "text": [
      "[[1 2 3]\n",
      " [4 5 6]]\n",
      "[[1 2]\n",
      " [3 4]\n",
      " [5 6]]\n"
     ]
    }
   ],
   "source": [
    "print(x)\n",
    "x=x.reshape(3,2)\n",
    "print(x)"
   ]
  },
  {
   "cell_type": "code",
   "execution_count": 93,
   "id": "304a8c4d-2bfe-4892-b33e-19bfab25559b",
   "metadata": {},
   "outputs": [
    {
     "name": "stdout",
     "output_type": "stream",
     "text": [
      "[[1 2 3 4 5 6]]\n"
     ]
    }
   ],
   "source": [
    "x=x.reshape(-1,6)\n",
    "print(x)"
   ]
  },
  {
   "cell_type": "code",
   "execution_count": 96,
   "id": "431e6218-a2b4-480b-b88c-5fbd22b2c9e3",
   "metadata": {},
   "outputs": [
    {
     "name": "stdout",
     "output_type": "stream",
     "text": [
      "[10 11 12 13 14 15 16 17 18 19]\n"
     ]
    }
   ],
   "source": [
    "a=np.arange(10)+10\n",
    "print(a)"
   ]
  },
  {
   "cell_type": "code",
   "execution_count": 103,
   "id": "a9d6ddfa-5558-497c-9b4a-6302c67a9584",
   "metadata": {},
   "outputs": [
    {
     "name": "stdout",
     "output_type": "stream",
     "text": [
      "[3, 4, 5, 2, 7, 1, 6]\n",
      "[6, 5, 4, 3, 7, 2, 1]\n"
     ]
    }
   ],
   "source": [
    "m=[1,2,3,4,5,6,7]\n",
    "np.random.shuffle(m)\n",
    "print(m)\n",
    "np.random.seed(1)#this will give same  random sequence everytime\n",
    "np.random.shuffle(m)\n",
    "print(m)"
   ]
  },
  {
   "cell_type": "code",
   "execution_count": 104,
   "id": "dfc7e407-a56a-4947-9eb4-62c4df1c35a7",
   "metadata": {},
   "outputs": [
    {
     "name": "stdout",
     "output_type": "stream",
     "text": [
      "Vertical Stack:\n",
      " [[1 2 3]\n",
      " [4 5 6]]\n",
      "Horizontal Stack:\n",
      " [1 2 3 4 5 6]\n"
     ]
    }
   ],
   "source": [
    "# Define two 1D arrays\n",
    "array1 = np.array([1, 2, 3])\n",
    "array2 = np.array([4, 5, 6])\n",
    "\n",
    "# Vertical stacking (row-wise)\n",
    "vertical_stack = np.vstack((array1, array2))\n",
    "\n",
    "# Horizontal stacking (column-wise)\n",
    "horizontal_stack = np.hstack((array1, array2))\n",
    "\n",
    "print(\"Vertical Stack:\\n\", vertical_stack)\n",
    "print(\"Horizontal Stack:\\n\", horizontal_stack)"
   ]
  },
  {
   "cell_type": "code",
   "execution_count": 1,
   "id": "40c4a69f-539b-475d-b971-030d7ad64ad6",
   "metadata": {},
   "outputs": [],
   "source": [
    "#explore random choice ,random,randn function also"
   ]
  },
  {
   "cell_type": "code",
   "execution_count": null,
   "id": "689081ab",
   "metadata": {},
   "outputs": [],
   "source": []
  }
 ],
 "metadata": {
  "kernelspec": {
   "display_name": "Python 3 (ipykernel)",
   "language": "python",
   "name": "python3"
  },
  "language_info": {
   "codemirror_mode": {
    "name": "ipython",
    "version": 3
   },
   "file_extension": ".py",
   "mimetype": "text/x-python",
   "name": "python",
   "nbconvert_exporter": "python",
   "pygments_lexer": "ipython3",
   "version": "3.12.4"
  }
 },
 "nbformat": 4,
 "nbformat_minor": 5
}
